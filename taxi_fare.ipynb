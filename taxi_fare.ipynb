{
 "cells": [
  {
   "cell_type": "markdown",
   "metadata": {},
   "source": [
    "# New York City Taxi Fare Prediction\n",
    "\n",
    "We are tasked with predicting the fare amount (inclusive of tolls) for a taxi ride in New York City given the pickup and dropoff locations. The evaluation metric for this competition is the root mean-squared error or RMSE. Follow the link to see the [Kaggle Competition](https://www.kaggle.com/c/new-york-city-taxi-fare-prediction/overview/description). Note that it suggest using TensorFlow, but we will use sklearn and regression models to try and predict fare amount.\n",
    "\n",
    "### Features\n",
    "- `key` - Unique string identifying each row in both the training and test sets. Comprised of pickup_datetime plus a unique integer. Required for submission but not for training.\n",
    "- `pickup_datetime` - timestamp value indicating when the taxi ride started.\n",
    "- `pickup_longitude` - float for longitude coordinate of where the taxi ride started.\n",
    "- `pickup_latitude` - float for latitude coordinate of where the taxi ride started.\n",
    "- `dropoff_longitude` - float for longitude coordinate of where the taxi ride ended.\n",
    "- `dropoff_latitude` - float for latitude coordinate of where the taxi ride ended.\n",
    "- `passenger_count` - integer indicating the number of passengers in the taxi ride.\n",
    "\n",
    "### Label\n",
    "- `fare_amount` - a float dollar amount of the cost of the taxi ride. This is the value we want to predict\n",
    "\n",
    "## Project Overview\n",
    "#### Data Exploration / Cleaning:\n",
    "- Drop all missing values from data frame.\n",
    "- Fixing target label by removing extreme outliers.\n",
    "- Fixing passenger_count by removing extreme outliers.\n",
    "- Ensure all data has realistic values and is ready for preprocessing/engineering.\n",
    "\n",
    "#### Data Preprocessing / Feature Engineering\n",
    "- \n",
    "- \n",
    "- \n",
    "\n",
    "#### Initial Modeling:\n",
    "- \n",
    "- \n",
    "- \n",
    "\n",
    "#### Hyperparameter Tuning:\n",
    "- \n",
    "- \n",
    "- \n",
    "\n",
    "#### Evaluating Best Model:\n",
    "- \n",
    "- \n",
    "- "
   ]
  },
  {
   "cell_type": "code",
   "execution_count": 2,
   "metadata": {},
   "outputs": [],
   "source": [
    "import pandas as pd\n",
    "import numpy as np\n",
    "import matplotlib.pyplot as plt\n",
    "from time import time\n",
    "%matplotlib inline"
   ]
  },
  {
   "cell_type": "code",
   "execution_count": 5,
   "metadata": {},
   "outputs": [
    {
     "data": {
      "text/html": [
       "<div>\n",
       "<style scoped>\n",
       "    .dataframe tbody tr th:only-of-type {\n",
       "        vertical-align: middle;\n",
       "    }\n",
       "\n",
       "    .dataframe tbody tr th {\n",
       "        vertical-align: top;\n",
       "    }\n",
       "\n",
       "    .dataframe thead th {\n",
       "        text-align: right;\n",
       "    }\n",
       "</style>\n",
       "<table border=\"1\" class=\"dataframe\">\n",
       "  <thead>\n",
       "    <tr style=\"text-align: right;\">\n",
       "      <th></th>\n",
       "      <th>key</th>\n",
       "      <th>fare_amount</th>\n",
       "      <th>pickup_datetime</th>\n",
       "      <th>pickup_longitude</th>\n",
       "      <th>pickup_latitude</th>\n",
       "      <th>dropoff_longitude</th>\n",
       "      <th>dropoff_latitude</th>\n",
       "      <th>passenger_count</th>\n",
       "    </tr>\n",
       "  </thead>\n",
       "  <tbody>\n",
       "    <tr>\n",
       "      <th>0</th>\n",
       "      <td>2009-06-15 17:26:21.0000001</td>\n",
       "      <td>4.5</td>\n",
       "      <td>2009-06-15 17:26:21 UTC</td>\n",
       "      <td>-73.844311</td>\n",
       "      <td>40.721319</td>\n",
       "      <td>-73.841610</td>\n",
       "      <td>40.712278</td>\n",
       "      <td>1</td>\n",
       "    </tr>\n",
       "    <tr>\n",
       "      <th>1</th>\n",
       "      <td>2010-01-05 16:52:16.0000002</td>\n",
       "      <td>16.9</td>\n",
       "      <td>2010-01-05 16:52:16 UTC</td>\n",
       "      <td>-74.016048</td>\n",
       "      <td>40.711303</td>\n",
       "      <td>-73.979268</td>\n",
       "      <td>40.782004</td>\n",
       "      <td>1</td>\n",
       "    </tr>\n",
       "    <tr>\n",
       "      <th>2</th>\n",
       "      <td>2011-08-18 00:35:00.00000049</td>\n",
       "      <td>5.7</td>\n",
       "      <td>2011-08-18 00:35:00 UTC</td>\n",
       "      <td>-73.982738</td>\n",
       "      <td>40.761270</td>\n",
       "      <td>-73.991242</td>\n",
       "      <td>40.750562</td>\n",
       "      <td>2</td>\n",
       "    </tr>\n",
       "    <tr>\n",
       "      <th>3</th>\n",
       "      <td>2012-04-21 04:30:42.0000001</td>\n",
       "      <td>7.7</td>\n",
       "      <td>2012-04-21 04:30:42 UTC</td>\n",
       "      <td>-73.987130</td>\n",
       "      <td>40.733143</td>\n",
       "      <td>-73.991567</td>\n",
       "      <td>40.758092</td>\n",
       "      <td>1</td>\n",
       "    </tr>\n",
       "    <tr>\n",
       "      <th>4</th>\n",
       "      <td>2010-03-09 07:51:00.000000135</td>\n",
       "      <td>5.3</td>\n",
       "      <td>2010-03-09 07:51:00 UTC</td>\n",
       "      <td>-73.968095</td>\n",
       "      <td>40.768008</td>\n",
       "      <td>-73.956655</td>\n",
       "      <td>40.783762</td>\n",
       "      <td>1</td>\n",
       "    </tr>\n",
       "  </tbody>\n",
       "</table>\n",
       "</div>"
      ],
      "text/plain": [
       "                             key  fare_amount          pickup_datetime  \\\n",
       "0    2009-06-15 17:26:21.0000001          4.5  2009-06-15 17:26:21 UTC   \n",
       "1    2010-01-05 16:52:16.0000002         16.9  2010-01-05 16:52:16 UTC   \n",
       "2   2011-08-18 00:35:00.00000049          5.7  2011-08-18 00:35:00 UTC   \n",
       "3    2012-04-21 04:30:42.0000001          7.7  2012-04-21 04:30:42 UTC   \n",
       "4  2010-03-09 07:51:00.000000135          5.3  2010-03-09 07:51:00 UTC   \n",
       "\n",
       "   pickup_longitude  pickup_latitude  dropoff_longitude  dropoff_latitude  \\\n",
       "0        -73.844311        40.721319         -73.841610         40.712278   \n",
       "1        -74.016048        40.711303         -73.979268         40.782004   \n",
       "2        -73.982738        40.761270         -73.991242         40.750562   \n",
       "3        -73.987130        40.733143         -73.991567         40.758092   \n",
       "4        -73.968095        40.768008         -73.956655         40.783762   \n",
       "\n",
       "   passenger_count  \n",
       "0                1  \n",
       "1                1  \n",
       "2                2  \n",
       "3                1  \n",
       "4                1  "
      ]
     },
     "execution_count": 5,
     "metadata": {},
     "output_type": "execute_result"
    }
   ],
   "source": [
    "nrows=2000000 # read in 1,000,000 rows from csv\n",
    "data = pd.read_csv('train.csv', nrows=nrows)\n",
    "\n",
    "data.head()"
   ]
  },
  {
   "cell_type": "markdown",
   "metadata": {},
   "source": [
    "## Data Cleaning / Exploration"
   ]
  },
  {
   "cell_type": "markdown",
   "metadata": {},
   "source": [
    "- `fare_amount`: We can see that for we have negative values which should not be possible (most likely due to a recording error). We will want to drop all values that are below 0, and investigate the large gap between the 75th percentile and max value as well."
   ]
  },
  {
   "cell_type": "code",
   "execution_count": 6,
   "metadata": {
    "scrolled": true
   },
   "outputs": [
    {
     "data": {
      "text/html": [
       "<div>\n",
       "<style scoped>\n",
       "    .dataframe tbody tr th:only-of-type {\n",
       "        vertical-align: middle;\n",
       "    }\n",
       "\n",
       "    .dataframe tbody tr th {\n",
       "        vertical-align: top;\n",
       "    }\n",
       "\n",
       "    .dataframe thead th {\n",
       "        text-align: right;\n",
       "    }\n",
       "</style>\n",
       "<table border=\"1\" class=\"dataframe\">\n",
       "  <thead>\n",
       "    <tr style=\"text-align: right;\">\n",
       "      <th></th>\n",
       "      <th>fare_amount</th>\n",
       "      <th>pickup_longitude</th>\n",
       "      <th>pickup_latitude</th>\n",
       "      <th>dropoff_longitude</th>\n",
       "      <th>dropoff_latitude</th>\n",
       "      <th>passenger_count</th>\n",
       "    </tr>\n",
       "  </thead>\n",
       "  <tbody>\n",
       "    <tr>\n",
       "      <th>count</th>\n",
       "      <td>2.000000e+06</td>\n",
       "      <td>2.000000e+06</td>\n",
       "      <td>2.000000e+06</td>\n",
       "      <td>1.999986e+06</td>\n",
       "      <td>1.999986e+06</td>\n",
       "      <td>2.000000e+06</td>\n",
       "    </tr>\n",
       "    <tr>\n",
       "      <th>mean</th>\n",
       "      <td>1.134779e+01</td>\n",
       "      <td>-7.252321e+01</td>\n",
       "      <td>3.992963e+01</td>\n",
       "      <td>-7.252395e+01</td>\n",
       "      <td>3.992808e+01</td>\n",
       "      <td>1.684113e+00</td>\n",
       "    </tr>\n",
       "    <tr>\n",
       "      <th>std</th>\n",
       "      <td>9.852883e+00</td>\n",
       "      <td>1.286804e+01</td>\n",
       "      <td>7.983352e+00</td>\n",
       "      <td>1.277497e+01</td>\n",
       "      <td>1.032382e+01</td>\n",
       "      <td>1.314982e+00</td>\n",
       "    </tr>\n",
       "    <tr>\n",
       "      <th>min</th>\n",
       "      <td>-6.200000e+01</td>\n",
       "      <td>-3.377681e+03</td>\n",
       "      <td>-3.458665e+03</td>\n",
       "      <td>-3.383297e+03</td>\n",
       "      <td>-3.461541e+03</td>\n",
       "      <td>0.000000e+00</td>\n",
       "    </tr>\n",
       "    <tr>\n",
       "      <th>25%</th>\n",
       "      <td>6.000000e+00</td>\n",
       "      <td>-7.399208e+01</td>\n",
       "      <td>4.073491e+01</td>\n",
       "      <td>-7.399141e+01</td>\n",
       "      <td>4.073400e+01</td>\n",
       "      <td>1.000000e+00</td>\n",
       "    </tr>\n",
       "    <tr>\n",
       "      <th>50%</th>\n",
       "      <td>8.500000e+00</td>\n",
       "      <td>-7.398181e+01</td>\n",
       "      <td>4.075263e+01</td>\n",
       "      <td>-7.398016e+01</td>\n",
       "      <td>4.075312e+01</td>\n",
       "      <td>1.000000e+00</td>\n",
       "    </tr>\n",
       "    <tr>\n",
       "      <th>75%</th>\n",
       "      <td>1.250000e+01</td>\n",
       "      <td>-7.396713e+01</td>\n",
       "      <td>4.076710e+01</td>\n",
       "      <td>-7.396369e+01</td>\n",
       "      <td>4.076809e+01</td>\n",
       "      <td>2.000000e+00</td>\n",
       "    </tr>\n",
       "    <tr>\n",
       "      <th>max</th>\n",
       "      <td>1.273310e+03</td>\n",
       "      <td>2.856442e+03</td>\n",
       "      <td>2.621628e+03</td>\n",
       "      <td>3.414307e+03</td>\n",
       "      <td>3.345917e+03</td>\n",
       "      <td>2.080000e+02</td>\n",
       "    </tr>\n",
       "  </tbody>\n",
       "</table>\n",
       "</div>"
      ],
      "text/plain": [
       "        fare_amount  pickup_longitude  pickup_latitude  dropoff_longitude  \\\n",
       "count  2.000000e+06      2.000000e+06     2.000000e+06       1.999986e+06   \n",
       "mean   1.134779e+01     -7.252321e+01     3.992963e+01      -7.252395e+01   \n",
       "std    9.852883e+00      1.286804e+01     7.983352e+00       1.277497e+01   \n",
       "min   -6.200000e+01     -3.377681e+03    -3.458665e+03      -3.383297e+03   \n",
       "25%    6.000000e+00     -7.399208e+01     4.073491e+01      -7.399141e+01   \n",
       "50%    8.500000e+00     -7.398181e+01     4.075263e+01      -7.398016e+01   \n",
       "75%    1.250000e+01     -7.396713e+01     4.076710e+01      -7.396369e+01   \n",
       "max    1.273310e+03      2.856442e+03     2.621628e+03       3.414307e+03   \n",
       "\n",
       "       dropoff_latitude  passenger_count  \n",
       "count      1.999986e+06     2.000000e+06  \n",
       "mean       3.992808e+01     1.684113e+00  \n",
       "std        1.032382e+01     1.314982e+00  \n",
       "min       -3.461541e+03     0.000000e+00  \n",
       "25%        4.073400e+01     1.000000e+00  \n",
       "50%        4.075312e+01     1.000000e+00  \n",
       "75%        4.076809e+01     2.000000e+00  \n",
       "max        3.345917e+03     2.080000e+02  "
      ]
     },
     "execution_count": 6,
     "metadata": {},
     "output_type": "execute_result"
    }
   ],
   "source": [
    "data.describe()"
   ]
  },
  {
   "cell_type": "markdown",
   "metadata": {},
   "source": [
    "### Dropping Missing Values\n",
    "Due to the large dataset and there only being 14 missing values, we will drop all observations that have a missing value for `dropoff_longitude` which will also eliminate all missing values in the `dropoff_latitude` feature as well."
   ]
  },
  {
   "cell_type": "code",
   "execution_count": 7,
   "metadata": {},
   "outputs": [
    {
     "data": {
      "text/plain": [
       "key                  False\n",
       "fare_amount          False\n",
       "pickup_datetime      False\n",
       "pickup_longitude     False\n",
       "pickup_latitude      False\n",
       "dropoff_longitude     True\n",
       "dropoff_latitude      True\n",
       "passenger_count      False\n",
       "dtype: bool"
      ]
     },
     "execution_count": 7,
     "metadata": {},
     "output_type": "execute_result"
    }
   ],
   "source": [
    "data.isna().any()"
   ]
  },
  {
   "cell_type": "code",
   "execution_count": 8,
   "metadata": {},
   "outputs": [
    {
     "data": {
      "text/plain": [
       "14"
      ]
     },
     "execution_count": 8,
     "metadata": {},
     "output_type": "execute_result"
    }
   ],
   "source": [
    "data['dropoff_longitude'].isna().sum()"
   ]
  },
  {
   "cell_type": "code",
   "execution_count": 9,
   "metadata": {},
   "outputs": [
    {
     "data": {
      "text/plain": [
       "14"
      ]
     },
     "execution_count": 9,
     "metadata": {},
     "output_type": "execute_result"
    }
   ],
   "source": [
    "data['dropoff_latitude'].isna().sum()"
   ]
  },
  {
   "cell_type": "code",
   "execution_count": 10,
   "metadata": {},
   "outputs": [
    {
     "name": "stdout",
     "output_type": "stream",
     "text": [
      "Size before dropping missing values: 2000000\n",
      "Size after dropping missing values: 1999986\n"
     ]
    },
    {
     "data": {
      "text/plain": [
       "key                  False\n",
       "fare_amount          False\n",
       "pickup_datetime      False\n",
       "pickup_longitude     False\n",
       "pickup_latitude      False\n",
       "dropoff_longitude    False\n",
       "dropoff_latitude     False\n",
       "passenger_count      False\n",
       "dtype: bool"
      ]
     },
     "execution_count": 10,
     "metadata": {},
     "output_type": "execute_result"
    }
   ],
   "source": [
    "initial_len = len(data)\n",
    "\n",
    "data.dropna(axis=0, inplace=True)\n",
    "\n",
    "dropna_len = len(data)\n",
    "\n",
    "print('Size before dropping missing values: {}'.format(initial_len))\n",
    "print('Size after dropping missing values: {}'.format(dropna_len))\n",
    "\n",
    "data.isna().any()"
   ]
  },
  {
   "cell_type": "markdown",
   "metadata": {},
   "source": [
    "### Fixing `fare_amount` distribution\n",
    "\n",
    "We can see most of our data is focued around approximately 0-60, but our outliers habe a low of $\\approx$-62 and a high of $\\approx$-1273. This both of these values are very unlikely, so we want to drop all fare amounts below 0 and all fare amount above the .995 quantile (meaning the 99.5th percentile). It is safe to say most of the data is in this remaining range."
   ]
  },
  {
   "cell_type": "code",
   "execution_count": 11,
   "metadata": {},
   "outputs": [
    {
     "name": "stdout",
     "output_type": "stream",
     "text": [
      "Fare amount has a min of -62.0 and a max of 1273.31\n"
     ]
    },
    {
     "data": {
      "image/png": "[encoded data removed]",
      "text/plain": [
       "<Figure size 432x288 with 1 Axes>"
      ]
     },
     "metadata": {
      "needs_background": "light"
     },
     "output_type": "display_data"
    }
   ],
   "source": [
    "fare_min = data.fare_amount.min()\n",
    "fare_max = data.fare_amount.max()\n",
    "print('Fare amount has a min of {} and a max of {}'.format(fare_min, fare_max))\n",
    "plt.hist(data['fare_amount'], bins=300)\n",
    "plt.xlim([fare_min-10, fare_max+10])\n",
    "plt.show()"
   ]
  },
  {
   "cell_type": "code",
   "execution_count": 12,
   "metadata": {},
   "outputs": [
    {
     "name": "stdout",
     "output_type": "stream",
     "text": [
      "New length: 1983511\n"
     ]
    },
    {
     "data": {
      "text/html": [
       "<div>\n",
       "<style scoped>\n",
       "    .dataframe tbody tr th:only-of-type {\n",
       "        vertical-align: middle;\n",
       "    }\n",
       "\n",
       "    .dataframe tbody tr th {\n",
       "        vertical-align: top;\n",
       "    }\n",
       "\n",
       "    .dataframe thead th {\n",
       "        text-align: right;\n",
       "    }\n",
       "</style>\n",
       "<table border=\"1\" class=\"dataframe\">\n",
       "  <thead>\n",
       "    <tr style=\"text-align: right;\">\n",
       "      <th></th>\n",
       "      <th>fare_amount</th>\n",
       "      <th>pickup_longitude</th>\n",
       "      <th>pickup_latitude</th>\n",
       "      <th>dropoff_longitude</th>\n",
       "      <th>dropoff_latitude</th>\n",
       "      <th>passenger_count</th>\n",
       "    </tr>\n",
       "  </thead>\n",
       "  <tbody>\n",
       "    <tr>\n",
       "      <th>count</th>\n",
       "      <td>1.983511e+06</td>\n",
       "      <td>1.983511e+06</td>\n",
       "      <td>1.983511e+06</td>\n",
       "      <td>1.983511e+06</td>\n",
       "      <td>1.983511e+06</td>\n",
       "      <td>1.983511e+06</td>\n",
       "    </tr>\n",
       "    <tr>\n",
       "      <th>mean</th>\n",
       "      <td>1.089658e+01</td>\n",
       "      <td>-7.253299e+01</td>\n",
       "      <td>3.993529e+01</td>\n",
       "      <td>-7.253598e+01</td>\n",
       "      <td>3.993507e+01</td>\n",
       "      <td>1.683740e+00</td>\n",
       "    </tr>\n",
       "    <tr>\n",
       "      <th>std</th>\n",
       "      <td>8.248278e+00</td>\n",
       "      <td>1.286066e+01</td>\n",
       "      <td>7.981636e+00</td>\n",
       "      <td>1.275923e+01</td>\n",
       "      <td>1.033715e+01</td>\n",
       "      <td>1.314937e+00</td>\n",
       "    </tr>\n",
       "    <tr>\n",
       "      <th>min</th>\n",
       "      <td>1.000000e-02</td>\n",
       "      <td>-3.377681e+03</td>\n",
       "      <td>-3.458665e+03</td>\n",
       "      <td>-3.383297e+03</td>\n",
       "      <td>-3.461541e+03</td>\n",
       "      <td>0.000000e+00</td>\n",
       "    </tr>\n",
       "    <tr>\n",
       "      <th>25%</th>\n",
       "      <td>6.000000e+00</td>\n",
       "      <td>-7.399212e+01</td>\n",
       "      <td>4.073515e+01</td>\n",
       "      <td>-7.399139e+01</td>\n",
       "      <td>4.073422e+01</td>\n",
       "      <td>1.000000e+00</td>\n",
       "    </tr>\n",
       "    <tr>\n",
       "      <th>50%</th>\n",
       "      <td>8.500000e+00</td>\n",
       "      <td>-7.398188e+01</td>\n",
       "      <td>4.075273e+01</td>\n",
       "      <td>-7.398018e+01</td>\n",
       "      <td>4.075323e+01</td>\n",
       "      <td>1.000000e+00</td>\n",
       "    </tr>\n",
       "    <tr>\n",
       "      <th>75%</th>\n",
       "      <td>1.250000e+01</td>\n",
       "      <td>-7.396736e+01</td>\n",
       "      <td>4.076718e+01</td>\n",
       "      <td>-7.396385e+01</td>\n",
       "      <td>4.076814e+01</td>\n",
       "      <td>2.000000e+00</td>\n",
       "    </tr>\n",
       "    <tr>\n",
       "      <th>max</th>\n",
       "      <td>5.731000e+01</td>\n",
       "      <td>2.856442e+03</td>\n",
       "      <td>2.621628e+03</td>\n",
       "      <td>3.414307e+03</td>\n",
       "      <td>3.345917e+03</td>\n",
       "      <td>2.080000e+02</td>\n",
       "    </tr>\n",
       "  </tbody>\n",
       "</table>\n",
       "</div>"
      ],
      "text/plain": [
       "        fare_amount  pickup_longitude  pickup_latitude  dropoff_longitude  \\\n",
       "count  1.983511e+06      1.983511e+06     1.983511e+06       1.983511e+06   \n",
       "mean   1.089658e+01     -7.253299e+01     3.993529e+01      -7.253598e+01   \n",
       "std    8.248278e+00      1.286066e+01     7.981636e+00       1.275923e+01   \n",
       "min    1.000000e-02     -3.377681e+03    -3.458665e+03      -3.383297e+03   \n",
       "25%    6.000000e+00     -7.399212e+01     4.073515e+01      -7.399139e+01   \n",
       "50%    8.500000e+00     -7.398188e+01     4.075273e+01      -7.398018e+01   \n",
       "75%    1.250000e+01     -7.396736e+01     4.076718e+01      -7.396385e+01   \n",
       "max    5.731000e+01      2.856442e+03     2.621628e+03       3.414307e+03   \n",
       "\n",
       "       dropoff_latitude  passenger_count  \n",
       "count      1.983511e+06     1.983511e+06  \n",
       "mean       3.993507e+01     1.683740e+00  \n",
       "std        1.033715e+01     1.314937e+00  \n",
       "min       -3.461541e+03     0.000000e+00  \n",
       "25%        4.073422e+01     1.000000e+00  \n",
       "50%        4.075323e+01     1.000000e+00  \n",
       "75%        4.076814e+01     2.000000e+00  \n",
       "max        3.345917e+03     2.080000e+02  "
      ]
     },
     "execution_count": 12,
     "metadata": {},
     "output_type": "execute_result"
    }
   ],
   "source": [
    "data_fare_fixed = data[(data.fare_amount < data.fare_amount.quantile(.995)) & (data.fare_amount > 0)]\n",
    "print('New length: {}'.format(len(data_fare_fixed)))\n",
    "data_fare_fixed.describe()"
   ]
  },
  {
   "cell_type": "code",
   "execution_count": 15,
   "metadata": {},
   "outputs": [
    {
     "name": "stdout",
     "output_type": "stream",
     "text": [
      "Fare amount has a min of 0.01 and a max of 57.31\n"
     ]
    },
    {
     "data": {
      "image/png": "[encoded data removed]",
      "text/plain": [
       "<Figure size 432x288 with 1 Axes>"
      ]
     },
     "metadata": {
      "needs_background": "light"
     },
     "output_type": "display_data"
    }
   ],
   "source": [
    "fare_min = data_fare_fixed.fare_amount.min()\n",
    "fare_max = data_fare_fixed.fare_amount.max()\n",
    "print('Fare amount has a min of {} and a max of {}'.format(fare_min, fare_max))\n",
    "plt.hist(data_fare_fixed['fare_amount'], bins=30)\n",
    "plt.xlim([fare_min, fare_max+3])\n",
    "plt.show()"
   ]
  },
  {
   "cell_type": "markdown",
   "metadata": {},
   "source": [
    "We now can see we have a right skew distribution, with a minimum of 0.01 and a maximum of 57.31. These values are much more likely and the data follows a much nicer distribution after dropping the values specified above. Although we lost around 10,000 observations, this is still a small amount in comparison to our total sample size. These values also could have been incorrect, which would have effected our model negatively."
   ]
  },
  {
   "cell_type": "markdown",
   "metadata": {},
   "source": [
    "### Fixing `passenger_count` distribution\n",
    "\n",
    "We also noticed from the summary statistics table that passenger count has a max value of 208. It is very unlikely that there were this many passenger (most likely due to a recording error). We will want to drop the obsevations with extremly large passenger counts since this will negatively impact our model. From checking the data, it looks like 208 is the only value above 7 in the passenger column, so we will drop just the single observation."
   ]
  },
  {
   "cell_type": "code",
   "execution_count": 30,
   "metadata": {
    "scrolled": true
   },
   "outputs": [
    {
     "data": {
      "text/plain": [
       "1      1372325\n",
       "2       292897\n",
       "5       140559\n",
       "3        86908\n",
       "4        42216\n",
       "6        41501\n",
       "0         7104\n",
       "208          1\n",
       "Name: passenger_count, dtype: int64"
      ]
     },
     "execution_count": 30,
     "metadata": {},
     "output_type": "execute_result"
    }
   ],
   "source": [
    "data_fare_fixed['passenger_count'].value_counts()"
   ]
  },
  {
   "cell_type": "code",
   "execution_count": 52,
   "metadata": {},
   "outputs": [
    {
     "data": {
      "image/png": "[encoded data removed]",
      "text/plain": [
       "<Figure size 432x288 with 1 Axes>"
      ]
     },
     "metadata": {
      "needs_background": "light"
     },
     "output_type": "display_data"
    }
   ],
   "source": [
    "data_p_fixed = data_fare_fixed[data_fare_fixed['passenger_count'] < 7]\n",
    "plt.hist(data_p_fixed['passenger_count'], bins=7);"
   ]
  },
  {
   "cell_type": "code",
   "execution_count": 31,
   "metadata": {},
   "outputs": [
    {
     "data": {
      "text/html": [
       "<div>\n",
       "<style scoped>\n",
       "    .dataframe tbody tr th:only-of-type {\n",
       "        vertical-align: middle;\n",
       "    }\n",
       "\n",
       "    .dataframe tbody tr th {\n",
       "        vertical-align: top;\n",
       "    }\n",
       "\n",
       "    .dataframe thead th {\n",
       "        text-align: right;\n",
       "    }\n",
       "</style>\n",
       "<table border=\"1\" class=\"dataframe\">\n",
       "  <thead>\n",
       "    <tr style=\"text-align: right;\">\n",
       "      <th></th>\n",
       "      <th>fare_amount</th>\n",
       "      <th>pickup_longitude</th>\n",
       "      <th>pickup_latitude</th>\n",
       "      <th>dropoff_longitude</th>\n",
       "      <th>dropoff_latitude</th>\n",
       "      <th>passenger_count</th>\n",
       "    </tr>\n",
       "  </thead>\n",
       "  <tbody>\n",
       "    <tr>\n",
       "      <th>count</th>\n",
       "      <td>1.983510e+06</td>\n",
       "      <td>1.983510e+06</td>\n",
       "      <td>1.983510e+06</td>\n",
       "      <td>1.983510e+06</td>\n",
       "      <td>1.983510e+06</td>\n",
       "      <td>1.983510e+06</td>\n",
       "    </tr>\n",
       "    <tr>\n",
       "      <th>mean</th>\n",
       "      <td>1.089658e+01</td>\n",
       "      <td>-7.253303e+01</td>\n",
       "      <td>3.993531e+01</td>\n",
       "      <td>-7.253602e+01</td>\n",
       "      <td>3.993509e+01</td>\n",
       "      <td>1.683636e+00</td>\n",
       "    </tr>\n",
       "    <tr>\n",
       "      <th>std</th>\n",
       "      <td>8.248278e+00</td>\n",
       "      <td>1.286056e+01</td>\n",
       "      <td>7.981588e+00</td>\n",
       "      <td>1.275913e+01</td>\n",
       "      <td>1.033711e+01</td>\n",
       "      <td>1.306751e+00</td>\n",
       "    </tr>\n",
       "    <tr>\n",
       "      <th>min</th>\n",
       "      <td>1.000000e-02</td>\n",
       "      <td>-3.377681e+03</td>\n",
       "      <td>-3.458665e+03</td>\n",
       "      <td>-3.383297e+03</td>\n",
       "      <td>-3.461541e+03</td>\n",
       "      <td>0.000000e+00</td>\n",
       "    </tr>\n",
       "    <tr>\n",
       "      <th>25%</th>\n",
       "      <td>6.000000e+00</td>\n",
       "      <td>-7.399212e+01</td>\n",
       "      <td>4.073515e+01</td>\n",
       "      <td>-7.399139e+01</td>\n",
       "      <td>4.073422e+01</td>\n",
       "      <td>1.000000e+00</td>\n",
       "    </tr>\n",
       "    <tr>\n",
       "      <th>50%</th>\n",
       "      <td>8.500000e+00</td>\n",
       "      <td>-7.398188e+01</td>\n",
       "      <td>4.075273e+01</td>\n",
       "      <td>-7.398018e+01</td>\n",
       "      <td>4.075323e+01</td>\n",
       "      <td>1.000000e+00</td>\n",
       "    </tr>\n",
       "    <tr>\n",
       "      <th>75%</th>\n",
       "      <td>1.250000e+01</td>\n",
       "      <td>-7.396736e+01</td>\n",
       "      <td>4.076718e+01</td>\n",
       "      <td>-7.396385e+01</td>\n",
       "      <td>4.076814e+01</td>\n",
       "      <td>2.000000e+00</td>\n",
       "    </tr>\n",
       "    <tr>\n",
       "      <th>max</th>\n",
       "      <td>5.731000e+01</td>\n",
       "      <td>2.856442e+03</td>\n",
       "      <td>2.621628e+03</td>\n",
       "      <td>3.414307e+03</td>\n",
       "      <td>3.345917e+03</td>\n",
       "      <td>6.000000e+00</td>\n",
       "    </tr>\n",
       "  </tbody>\n",
       "</table>\n",
       "</div>"
      ],
      "text/plain": [
       "        fare_amount  pickup_longitude  pickup_latitude  dropoff_longitude  \\\n",
       "count  1.983510e+06      1.983510e+06     1.983510e+06       1.983510e+06   \n",
       "mean   1.089658e+01     -7.253303e+01     3.993531e+01      -7.253602e+01   \n",
       "std    8.248278e+00      1.286056e+01     7.981588e+00       1.275913e+01   \n",
       "min    1.000000e-02     -3.377681e+03    -3.458665e+03      -3.383297e+03   \n",
       "25%    6.000000e+00     -7.399212e+01     4.073515e+01      -7.399139e+01   \n",
       "50%    8.500000e+00     -7.398188e+01     4.075273e+01      -7.398018e+01   \n",
       "75%    1.250000e+01     -7.396736e+01     4.076718e+01      -7.396385e+01   \n",
       "max    5.731000e+01      2.856442e+03     2.621628e+03       3.414307e+03   \n",
       "\n",
       "       dropoff_latitude  passenger_count  \n",
       "count      1.983510e+06     1.983510e+06  \n",
       "mean       3.993509e+01     1.683636e+00  \n",
       "std        1.033711e+01     1.306751e+00  \n",
       "min       -3.461541e+03     0.000000e+00  \n",
       "25%        4.073422e+01     1.000000e+00  \n",
       "50%        4.075323e+01     1.000000e+00  \n",
       "75%        4.076814e+01     2.000000e+00  \n",
       "max        3.345917e+03     6.000000e+00  "
      ]
     },
     "execution_count": 31,
     "metadata": {},
     "output_type": "execute_result"
    }
   ],
   "source": [
    "data_p_fixed.describe()"
   ]
  },
  {
   "cell_type": "code",
   "execution_count": 54,
   "metadata": {},
   "outputs": [
    {
     "data": {
      "text/html": [
       "<div>\n",
       "<style scoped>\n",
       "    .dataframe tbody tr th:only-of-type {\n",
       "        vertical-align: middle;\n",
       "    }\n",
       "\n",
       "    .dataframe tbody tr th {\n",
       "        vertical-align: top;\n",
       "    }\n",
       "\n",
       "    .dataframe thead th {\n",
       "        text-align: right;\n",
       "    }\n",
       "</style>\n",
       "<table border=\"1\" class=\"dataframe\">\n",
       "  <thead>\n",
       "    <tr style=\"text-align: right;\">\n",
       "      <th></th>\n",
       "      <th>key</th>\n",
       "      <th>fare_amount</th>\n",
       "      <th>pickup_datetime</th>\n",
       "      <th>pickup_longitude</th>\n",
       "      <th>pickup_latitude</th>\n",
       "      <th>dropoff_longitude</th>\n",
       "      <th>dropoff_latitude</th>\n",
       "      <th>passenger_count</th>\n",
       "    </tr>\n",
       "  </thead>\n",
       "  <tbody>\n",
       "    <tr>\n",
       "      <th>0</th>\n",
       "      <td>2009-06-15 17:26:21.0000001</td>\n",
       "      <td>4.5</td>\n",
       "      <td>2009-06-15 17:26:21 UTC</td>\n",
       "      <td>-73.844311</td>\n",
       "      <td>40.721319</td>\n",
       "      <td>-73.841610</td>\n",
       "      <td>40.712278</td>\n",
       "      <td>1</td>\n",
       "    </tr>\n",
       "    <tr>\n",
       "      <th>1</th>\n",
       "      <td>2010-01-05 16:52:16.0000002</td>\n",
       "      <td>16.9</td>\n",
       "      <td>2010-01-05 16:52:16 UTC</td>\n",
       "      <td>-74.016048</td>\n",
       "      <td>40.711303</td>\n",
       "      <td>-73.979268</td>\n",
       "      <td>40.782004</td>\n",
       "      <td>1</td>\n",
       "    </tr>\n",
       "    <tr>\n",
       "      <th>2</th>\n",
       "      <td>2011-08-18 00:35:00.00000049</td>\n",
       "      <td>5.7</td>\n",
       "      <td>2011-08-18 00:35:00 UTC</td>\n",
       "      <td>-73.982738</td>\n",
       "      <td>40.761270</td>\n",
       "      <td>-73.991242</td>\n",
       "      <td>40.750562</td>\n",
       "      <td>2</td>\n",
       "    </tr>\n",
       "    <tr>\n",
       "      <th>3</th>\n",
       "      <td>2012-04-21 04:30:42.0000001</td>\n",
       "      <td>7.7</td>\n",
       "      <td>2012-04-21 04:30:42 UTC</td>\n",
       "      <td>-73.987130</td>\n",
       "      <td>40.733143</td>\n",
       "      <td>-73.991567</td>\n",
       "      <td>40.758092</td>\n",
       "      <td>1</td>\n",
       "    </tr>\n",
       "    <tr>\n",
       "      <th>4</th>\n",
       "      <td>2010-03-09 07:51:00.000000135</td>\n",
       "      <td>5.3</td>\n",
       "      <td>2010-03-09 07:51:00 UTC</td>\n",
       "      <td>-73.968095</td>\n",
       "      <td>40.768008</td>\n",
       "      <td>-73.956655</td>\n",
       "      <td>40.783762</td>\n",
       "      <td>1</td>\n",
       "    </tr>\n",
       "  </tbody>\n",
       "</table>\n",
       "</div>"
      ],
      "text/plain": [
       "                             key  fare_amount          pickup_datetime  \\\n",
       "0    2009-06-15 17:26:21.0000001          4.5  2009-06-15 17:26:21 UTC   \n",
       "1    2010-01-05 16:52:16.0000002         16.9  2010-01-05 16:52:16 UTC   \n",
       "2   2011-08-18 00:35:00.00000049          5.7  2011-08-18 00:35:00 UTC   \n",
       "3    2012-04-21 04:30:42.0000001          7.7  2012-04-21 04:30:42 UTC   \n",
       "4  2010-03-09 07:51:00.000000135          5.3  2010-03-09 07:51:00 UTC   \n",
       "\n",
       "   pickup_longitude  pickup_latitude  dropoff_longitude  dropoff_latitude  \\\n",
       "0        -73.844311        40.721319         -73.841610         40.712278   \n",
       "1        -74.016048        40.711303         -73.979268         40.782004   \n",
       "2        -73.982738        40.761270         -73.991242         40.750562   \n",
       "3        -73.987130        40.733143         -73.991567         40.758092   \n",
       "4        -73.968095        40.768008         -73.956655         40.783762   \n",
       "\n",
       "   passenger_count  \n",
       "0                1  \n",
       "1                1  \n",
       "2                2  \n",
       "3                1  \n",
       "4                1  "
      ]
     },
     "execution_count": 54,
     "metadata": {},
     "output_type": "execute_result"
    }
   ],
   "source": [
    "data_p_fixed.to_csv('cleaned_train_data.csv', index=False) # saved cleaned data for future use\n",
    "\n",
    "df = pd.read_csv('cleaned_train_data.csv') # read in cleaned data to new data frame\n",
    "df.head()"
   ]
  },
  {
   "cell_type": "code",
   "execution_count": 55,
   "metadata": {},
   "outputs": [
    {
     "data": {
      "text/html": [
       "<div>\n",
       "<style scoped>\n",
       "    .dataframe tbody tr th:only-of-type {\n",
       "        vertical-align: middle;\n",
       "    }\n",
       "\n",
       "    .dataframe tbody tr th {\n",
       "        vertical-align: top;\n",
       "    }\n",
       "\n",
       "    .dataframe thead th {\n",
       "        text-align: right;\n",
       "    }\n",
       "</style>\n",
       "<table border=\"1\" class=\"dataframe\">\n",
       "  <thead>\n",
       "    <tr style=\"text-align: right;\">\n",
       "      <th></th>\n",
       "      <th>fare_amount</th>\n",
       "      <th>pickup_longitude</th>\n",
       "      <th>pickup_latitude</th>\n",
       "      <th>dropoff_longitude</th>\n",
       "      <th>dropoff_latitude</th>\n",
       "      <th>passenger_count</th>\n",
       "    </tr>\n",
       "  </thead>\n",
       "  <tbody>\n",
       "    <tr>\n",
       "      <th>count</th>\n",
       "      <td>1.983510e+06</td>\n",
       "      <td>1.983510e+06</td>\n",
       "      <td>1.983510e+06</td>\n",
       "      <td>1.983510e+06</td>\n",
       "      <td>1.983510e+06</td>\n",
       "      <td>1.983510e+06</td>\n",
       "    </tr>\n",
       "    <tr>\n",
       "      <th>mean</th>\n",
       "      <td>1.089658e+01</td>\n",
       "      <td>-7.253303e+01</td>\n",
       "      <td>3.993531e+01</td>\n",
       "      <td>-7.253602e+01</td>\n",
       "      <td>3.993509e+01</td>\n",
       "      <td>1.683636e+00</td>\n",
       "    </tr>\n",
       "    <tr>\n",
       "      <th>std</th>\n",
       "      <td>8.248278e+00</td>\n",
       "      <td>1.286056e+01</td>\n",
       "      <td>7.981588e+00</td>\n",
       "      <td>1.275913e+01</td>\n",
       "      <td>1.033711e+01</td>\n",
       "      <td>1.306751e+00</td>\n",
       "    </tr>\n",
       "    <tr>\n",
       "      <th>min</th>\n",
       "      <td>1.000000e-02</td>\n",
       "      <td>-3.377681e+03</td>\n",
       "      <td>-3.458665e+03</td>\n",
       "      <td>-3.383297e+03</td>\n",
       "      <td>-3.461541e+03</td>\n",
       "      <td>0.000000e+00</td>\n",
       "    </tr>\n",
       "    <tr>\n",
       "      <th>25%</th>\n",
       "      <td>6.000000e+00</td>\n",
       "      <td>-7.399212e+01</td>\n",
       "      <td>4.073515e+01</td>\n",
       "      <td>-7.399139e+01</td>\n",
       "      <td>4.073422e+01</td>\n",
       "      <td>1.000000e+00</td>\n",
       "    </tr>\n",
       "    <tr>\n",
       "      <th>50%</th>\n",
       "      <td>8.500000e+00</td>\n",
       "      <td>-7.398188e+01</td>\n",
       "      <td>4.075274e+01</td>\n",
       "      <td>-7.398018e+01</td>\n",
       "      <td>4.075323e+01</td>\n",
       "      <td>1.000000e+00</td>\n",
       "    </tr>\n",
       "    <tr>\n",
       "      <th>75%</th>\n",
       "      <td>1.250000e+01</td>\n",
       "      <td>-7.396736e+01</td>\n",
       "      <td>4.076718e+01</td>\n",
       "      <td>-7.396385e+01</td>\n",
       "      <td>4.076814e+01</td>\n",
       "      <td>2.000000e+00</td>\n",
       "    </tr>\n",
       "    <tr>\n",
       "      <th>max</th>\n",
       "      <td>5.731000e+01</td>\n",
       "      <td>2.856442e+03</td>\n",
       "      <td>2.621628e+03</td>\n",
       "      <td>3.414307e+03</td>\n",
       "      <td>3.345917e+03</td>\n",
       "      <td>6.000000e+00</td>\n",
       "    </tr>\n",
       "  </tbody>\n",
       "</table>\n",
       "</div>"
      ],
      "text/plain": [
       "        fare_amount  pickup_longitude  pickup_latitude  dropoff_longitude  \\\n",
       "count  1.983510e+06      1.983510e+06     1.983510e+06       1.983510e+06   \n",
       "mean   1.089658e+01     -7.253303e+01     3.993531e+01      -7.253602e+01   \n",
       "std    8.248278e+00      1.286056e+01     7.981588e+00       1.275913e+01   \n",
       "min    1.000000e-02     -3.377681e+03    -3.458665e+03      -3.383297e+03   \n",
       "25%    6.000000e+00     -7.399212e+01     4.073515e+01      -7.399139e+01   \n",
       "50%    8.500000e+00     -7.398188e+01     4.075274e+01      -7.398018e+01   \n",
       "75%    1.250000e+01     -7.396736e+01     4.076718e+01      -7.396385e+01   \n",
       "max    5.731000e+01      2.856442e+03     2.621628e+03       3.414307e+03   \n",
       "\n",
       "       dropoff_latitude  passenger_count  \n",
       "count      1.983510e+06     1.983510e+06  \n",
       "mean       3.993509e+01     1.683636e+00  \n",
       "std        1.033711e+01     1.306751e+00  \n",
       "min       -3.461541e+03     0.000000e+00  \n",
       "25%        4.073422e+01     1.000000e+00  \n",
       "50%        4.075323e+01     1.000000e+00  \n",
       "75%        4.076814e+01     2.000000e+00  \n",
       "max        3.345917e+03     6.000000e+00  "
      ]
     },
     "execution_count": 55,
     "metadata": {},
     "output_type": "execute_result"
    }
   ],
   "source": [
    "df.describe() # all changes were saved and loaded successfully"
   ]
  },
  {
   "cell_type": "markdown",
   "metadata": {},
   "source": [
    "## Data Preprocessing / Feature Engineering\n",
    "\n",
    "Create new columns for:\n",
    "- Get year from pickup_datetime (split on ' '[0], split on '-'[0])\n",
    "- Get time from pickup_datetime (split on ' '[1] and encode morning/day/night)?\n",
    "- Get difference between pickup and dropoff long/lat\n",
    " "
   ]
  },
  {
   "cell_type": "code",
   "execution_count": null,
   "metadata": {},
   "outputs": [],
   "source": []
  },
  {
   "cell_type": "code",
   "execution_count": null,
   "metadata": {},
   "outputs": [],
   "source": []
  },
  {
   "cell_type": "code",
   "execution_count": null,
   "metadata": {},
   "outputs": [],
   "source": []
  }
 ],
 "metadata": {
  "kernelspec": {
   "display_name": "Python 3",
   "language": "python",
   "name": "python3"
  },
  "language_info": {
   "codemirror_mode": {
    "name": "ipython",
    "version": 3
   },
   "file_extension": ".py",
   "mimetype": "text/x-python",
   "name": "python",
   "nbconvert_exporter": "python",
   "pygments_lexer": "ipython3",
   "version": "3.7.9"
  }
 },
 "nbformat": 4,
 "nbformat_minor": 4
}
