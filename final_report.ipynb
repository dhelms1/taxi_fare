{
 "cells": [
  {
   "cell_type": "markdown",
   "metadata": {},
   "source": [
    "# New York City Taxi Fare Prediction\n",
    "\n",
    "We are tasked with predicting the fare amount (inclusive of tolls) for a taxi ride in New York City given the pickup and dropoff locations. The evaluation metric for this competition is the root mean-squared error or RMSE. Follow the link to see the [Kaggle Competition](https://www.kaggle.com/c/new-york-city-taxi-fare-prediction/overview/description). Note that it suggest using TensorFlow, but we will use sklearn and regression models to try and predict fare amount.\n",
    "\n",
    "### Features\n",
    "- `key` - Unique string identifying each row in both the training and test sets. Comprised of pickup_datetime plus a unique integer. Required for submission but not for training.\n",
    "- `pickup_datetime` - timestamp value indicating when the taxi ride started.\n",
    "- `pickup_longitude` - float for longitude coordinate of where the taxi ride started.\n",
    "- `pickup_latitude` - float for latitude coordinate of where the taxi ride started.\n",
    "- `dropoff_longitude` - float for longitude coordinate of where the taxi ride ended.\n",
    "- `dropoff_latitude` - float for latitude coordinate of where the taxi ride ended.\n",
    "- `passenger_count` - integer indicating the number of passengers in the taxi ride.\n",
    "\n",
    "### Label\n",
    "- `fare_amount` - a float dollar amount of the cost of the taxi ride. This is the value we want to predict"
   ]
  },
  {
   "cell_type": "code",
   "execution_count": null,
   "metadata": {},
   "outputs": [],
   "source": []
  }
 ],
 "metadata": {
  "kernelspec": {
   "display_name": "Python 3",
   "language": "python",
   "name": "python3"
  },
  "language_info": {
   "codemirror_mode": {
    "name": "ipython",
    "version": 3
   },
   "file_extension": ".py",
   "mimetype": "text/x-python",
   "name": "python",
   "nbconvert_exporter": "python",
   "pygments_lexer": "ipython3",
   "version": "3.7.9"
  }
 },
 "nbformat": 4,
 "nbformat_minor": 4
}
